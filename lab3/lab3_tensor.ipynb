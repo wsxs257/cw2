{
 "cells": [
  {
   "cell_type": "markdown",
   "id": "47c315cf",
   "metadata": {},
   "source": [
    "# NLU+ 2023-2024 Lab 3: Tensor Computation in PyTorch"
   ]
  },
  {
   "cell_type": "markdown",
   "id": "034716f1",
   "metadata": {},
   "source": [
    "#### Authors: Pasquale Minervini, Yao Fu, and Frank Keller"
   ]
  },
  {
   "cell_type": "markdown",
   "id": "5214c80f",
   "metadata": {},
   "source": [
    "This lab indends to teach computation with tensors, which is a fundamental paradigm in modern machine learning. \n",
    "\n",
    "Students should work through Section 1 before the lab session, as this section introduces the basics of tensor computation. The lab session will then focus on more advanced computations with tensors, in Sections 2 and 3.\n",
    "\n",
    "**Students are strongly encouraged to complete this lab before starting CW2. Many computations in the lab will be encountered in CW2 again, so the amount of difficult in the coursework will be significantly reduced.**"
   ]
  },
  {
   "cell_type": "markdown",
   "id": "f3348b48",
   "metadata": {},
   "source": [
    "We suggest using jupyter lab instead of jupyter notebook. Basically jupyter lab is an enhanced version of jupyter notebook. Downloading jupyter lab is simply:\n",
    "\n",
    "```bash\n",
    "pip install jupyterlab\n",
    "```\n",
    "\n",
    "Then in a terminal, start jupyter lab with \n",
    "```bash\n",
    "jupyter lab\n",
    "```"
   ]
  },
  {
   "cell_type": "code",
   "execution_count": 1,
   "id": "851651f0",
   "metadata": {},
   "outputs": [],
   "source": [
    "import torch \n",
    "import torch.nn.functional as F"
   ]
  },
  {
   "cell_type": "markdown",
   "id": "682df826",
   "metadata": {},
   "source": [
    "# Section 1. Basic Tensor Computation"
   ]
  },
  {
   "cell_type": "markdown",
   "id": "a89d2817",
   "metadata": {},
   "source": [
    "## Definition of Tensor: High-dimensional Array"
   ]
  },
  {
   "cell_type": "markdown",
   "id": "e08e5545",
   "metadata": {},
   "source": [
    "### Vector"
   ]
  },
  {
   "cell_type": "markdown",
   "id": "ee1e281b",
   "metadata": {},
   "source": [
    "A vector is a rank-1 (or one-dimentional) tensor.\n",
    "\n",
    "In NLP, it could be a single sentence where each word is an integer index."
   ]
  },
  {
   "cell_type": "code",
   "execution_count": 2,
   "id": "fcaefb71",
   "metadata": {},
   "outputs": [],
   "source": [
    "sent = torch.tensor([1, 3, 5, 7, 9])"
   ]
  },
  {
   "cell_type": "code",
   "execution_count": 3,
   "id": "adc778ac",
   "metadata": {},
   "outputs": [
    {
     "data": {
      "text/plain": [
       "tensor([1, 3, 5, 7, 9])"
      ]
     },
     "execution_count": 3,
     "metadata": {},
     "output_type": "execute_result"
    }
   ],
   "source": [
    "sent"
   ]
  },
  {
   "cell_type": "markdown",
   "id": "1ad4b480",
   "metadata": {},
   "source": [
    "### Matrix"
   ]
  },
  {
   "cell_type": "markdown",
   "id": "c086829b",
   "metadata": {},
   "source": [
    "A matrix is a rank-2 (or two-dimentional) tensor.\n",
    "\n",
    "In NLP, this could used to represent a batch of different sentences."
   ]
  },
  {
   "cell_type": "code",
   "execution_count": 4,
   "id": "8e454506",
   "metadata": {},
   "outputs": [],
   "source": [
    "sents = torch.tensor([[1, 3, 5, 7, 9], \n",
    "                     [2, 4, 6, 8, 10]]) # a batch of two sentences"
   ]
  },
  {
   "cell_type": "code",
   "execution_count": 5,
   "id": "44b43f78",
   "metadata": {},
   "outputs": [
    {
     "data": {
      "text/plain": [
       "tensor([[ 1,  3,  5,  7,  9],\n",
       "        [ 2,  4,  6,  8, 10]])"
      ]
     },
     "execution_count": 5,
     "metadata": {},
     "output_type": "execute_result"
    }
   ],
   "source": [
    "sents # we assume these index corresponds to some actual words"
   ]
  },
  {
   "cell_type": "markdown",
   "id": "22c983c7",
   "metadata": {},
   "source": [
    "### Rank-3 Tensor"
   ]
  },
  {
   "cell_type": "markdown",
   "id": "bf885411",
   "metadata": {},
   "source": [
    "There can be a rank-3 (three-dimensional) tensor.\n",
    "\n",
    "In NLP, this could be a batch of sentences, where each word in each sentence is representened as an embedding vector."
   ]
  },
  {
   "cell_type": "code",
   "execution_count": 6,
   "id": "d1758db6",
   "metadata": {},
   "outputs": [],
   "source": [
    "sents_emb = torch.rand([2, 5, 10])  # [batch_size = 2, sentence_length = 5, hidden_size = 10]\n",
    "                                    # we use random vectors for the purpose of demonstration \n",
    "                                    # we use the name `hidden_size` because the embedding is usually referred as 'hidden representations' in neural networks"
   ]
  },
  {
   "cell_type": "code",
   "execution_count": 7,
   "id": "d47f5a19",
   "metadata": {},
   "outputs": [
    {
     "data": {
      "text/plain": [
       "tensor([[[0.0165, 0.4610, 0.2935, 0.7918, 0.9897, 0.5539, 0.9382, 0.9258,\n",
       "          0.1409, 0.6015],\n",
       "         [0.9948, 0.9281, 0.0693, 0.9243, 0.0479, 0.0031, 0.9342, 0.8005,\n",
       "          0.0294, 0.0470],\n",
       "         [0.6854, 0.2645, 0.7973, 0.1580, 0.6953, 0.1219, 0.7219, 0.6394,\n",
       "          0.2284, 0.7700],\n",
       "         [0.3644, 0.9829, 0.5922, 0.3716, 0.2549, 0.9234, 0.9027, 0.3655,\n",
       "          0.9783, 0.2015],\n",
       "         [0.4519, 0.4519, 0.1742, 0.3138, 0.3291, 0.8921, 0.3761, 0.8290,\n",
       "          0.7847, 0.0578]],\n",
       "\n",
       "        [[0.6409, 0.7583, 0.7778, 0.7661, 0.9191, 0.1258, 0.5029, 0.1685,\n",
       "          0.9733, 0.4825],\n",
       "         [0.4110, 0.0821, 0.2093, 0.5083, 0.7708, 0.1336, 0.6952, 0.9294,\n",
       "          0.0439, 0.7541],\n",
       "         [0.4254, 0.7400, 0.5253, 0.5484, 0.5981, 0.5491, 0.9301, 0.2295,\n",
       "          0.1450, 0.3191],\n",
       "         [0.9057, 0.6761, 0.8336, 0.6161, 0.6311, 0.6301, 0.2490, 0.5835,\n",
       "          0.7767, 0.3806],\n",
       "         [0.4389, 0.8493, 0.5399, 0.6399, 0.1641, 0.3442, 0.4867, 0.7866,\n",
       "          0.4725, 0.2188]]])"
      ]
     },
     "execution_count": 7,
     "metadata": {},
     "output_type": "execute_result"
    }
   ],
   "source": [
    "sents_emb"
   ]
  },
  {
   "cell_type": "markdown",
   "id": "a5c53228",
   "metadata": {},
   "source": [
    "Here `sents_emb[i, j]` means the word embedding for the j-th word in the i-th sentence."
   ]
  },
  {
   "cell_type": "code",
   "execution_count": 8,
   "id": "8c524d91",
   "metadata": {},
   "outputs": [
    {
     "data": {
      "text/plain": [
       "tensor([0.3644, 0.9829, 0.5922, 0.3716, 0.2549, 0.9234, 0.9027, 0.3655, 0.9783,\n",
       "        0.2015])"
      ]
     },
     "execution_count": 8,
     "metadata": {},
     "output_type": "execute_result"
    }
   ],
   "source": [
    "#  word embedding for 0-th sentence, 3-rd word\n",
    "sents_emb[0, 3]"
   ]
  },
  {
   "cell_type": "markdown",
   "id": "fe358306",
   "metadata": {},
   "source": [
    "### Rank-4 Tensor"
   ]
  },
  {
   "cell_type": "markdown",
   "id": "4e5cab48",
   "metadata": {},
   "source": [
    "As for a rank-4 (four-dimensional) tensor, this could be a batch of sentences, where each word of each sentence is further devided into different heads of attention keys for multi-head attention (you will encounter this in CW2)."
   ]
  },
  {
   "cell_type": "code",
   "execution_count": 9,
   "id": "1fdf59bc",
   "metadata": {},
   "outputs": [],
   "source": [
    "sents_emb_keys = torch.rand([2, 5, 4, 10])  # [batch_size = 2, sentence_length = 5, number_of_heads = 4, hidden_size = 10]\n",
    "                                            # Again, we use random vectors for the purpose of demonstration"
   ]
  },
  {
   "cell_type": "markdown",
   "id": "1a1d07bd",
   "metadata": {},
   "source": [
    "Here `sents_emb_keys[i, j, k]` means the attention key vector in the i-th sentence, j-th word, k-th head."
   ]
  },
  {
   "cell_type": "code",
   "execution_count": 10,
   "id": "fafe30e4",
   "metadata": {},
   "outputs": [
    {
     "data": {
      "text/plain": [
       "tensor([0.9995, 0.9725, 0.6199, 0.8235, 0.5397, 0.8774, 0.5437, 0.5569, 0.8486,\n",
       "        0.3910])"
      ]
     },
     "execution_count": 10,
     "metadata": {},
     "output_type": "execute_result"
    }
   ],
   "source": [
    "# key vector for 0-th, 3-rd word, 2-nd head\n",
    "sents_emb_keys[0, 3, 2] "
   ]
  },
  {
   "cell_type": "markdown",
   "id": "eecbd036",
   "metadata": {},
   "source": [
    "### Caveat: always keep in mind the meaning of shapes of tensors"
   ]
  },
  {
   "cell_type": "markdown",
   "id": "b9e51ca4",
   "metadata": {},
   "source": [
    "It is important to always have a record of the meaning of the shape, otherwise one would quickly forget what each tensor dimension means."
   ]
  },
  {
   "cell_type": "code",
   "execution_count": 11,
   "id": "34b18576",
   "metadata": {},
   "outputs": [
    {
     "data": {
      "text/plain": [
       "torch.Size([2, 5, 4, 10])"
      ]
     },
     "execution_count": 11,
     "metadata": {},
     "output_type": "execute_result"
    }
   ],
   "source": [
    "sents_emb_keys.size()"
   ]
  },
  {
   "cell_type": "markdown",
   "id": "b390c981",
   "metadata": {},
   "source": [
    "Question: what does [2, 5, 4, 10] mean?\n",
    "\n",
    "Answer: it means [batch_size = 2, sentence_length = 5, number_of_heads = 4, hidden_size = 10], where `number_of_heads` means the number of heads used in the attention mechanism."
   ]
  },
  {
   "cell_type": "markdown",
   "id": "cd34313f",
   "metadata": {},
   "source": [
    "## Basic Tensor Operation"
   ]
  },
  {
   "cell_type": "markdown",
   "id": "aba30707",
   "metadata": {},
   "source": [
    "### Indexing"
   ]
  },
  {
   "cell_type": "code",
   "execution_count": 12,
   "id": "f0f7cc0a",
   "metadata": {
    "jupyter": {
     "outputs_hidden": true
    },
    "tags": []
   },
   "outputs": [
    {
     "data": {
      "text/plain": [
       "tensor([[[0.7381, 0.1543, 0.6069, 0.4136, 0.7161, 0.8884, 0.0661, 0.1811,\n",
       "          0.1927, 0.2207],\n",
       "         [0.8948, 0.9163, 0.5317, 0.7555, 0.9061, 0.0091, 0.5229, 0.6696,\n",
       "          0.7057, 0.6332],\n",
       "         [0.0599, 0.8027, 0.7089, 0.6296, 0.5882, 0.0374, 0.7048, 0.9837,\n",
       "          0.5155, 0.5479],\n",
       "         [0.5107, 0.9159, 0.8990, 0.0545, 0.3603, 0.7753, 0.5407, 0.4403,\n",
       "          0.8934, 0.4369]],\n",
       "\n",
       "        [[0.6999, 0.2257, 0.6439, 0.9463, 0.1383, 0.4570, 0.1285, 0.0400,\n",
       "          0.3239, 0.8844],\n",
       "         [0.9355, 0.7758, 0.1064, 0.9801, 0.5908, 0.9711, 0.2980, 0.6997,\n",
       "          0.5886, 0.0251],\n",
       "         [0.1514, 0.3595, 0.0484, 0.6166, 0.8912, 0.8841, 0.5238, 0.2317,\n",
       "          0.5468, 0.5227],\n",
       "         [0.9602, 0.7139, 0.0681, 0.5804, 0.2145, 0.6712, 0.6383, 0.3261,\n",
       "          0.6275, 0.2552]],\n",
       "\n",
       "        [[0.3362, 0.3430, 0.9842, 0.8791, 0.8355, 0.3035, 0.6726, 0.7072,\n",
       "          0.6952, 0.0333],\n",
       "         [0.8267, 0.4733, 0.2588, 0.2936, 0.6886, 0.3186, 0.3520, 0.0206,\n",
       "          0.2313, 0.8176],\n",
       "         [0.5742, 0.4536, 0.3682, 0.3018, 0.2567, 0.6178, 0.4781, 0.6415,\n",
       "          0.4560, 0.4921],\n",
       "         [0.7995, 0.9670, 0.3820, 0.9566, 0.9264, 0.7942, 0.2774, 0.8331,\n",
       "          0.3129, 0.4751]],\n",
       "\n",
       "        [[0.7844, 0.3833, 0.7440, 0.3996, 0.5801, 0.0230, 0.9881, 0.3074,\n",
       "          0.1997, 0.7648],\n",
       "         [0.6398, 0.1023, 0.4721, 0.8809, 0.6355, 0.3216, 0.6054, 0.4593,\n",
       "          0.6713, 0.1862],\n",
       "         [0.9995, 0.9725, 0.6199, 0.8235, 0.5397, 0.8774, 0.5437, 0.5569,\n",
       "          0.8486, 0.3910],\n",
       "         [0.8946, 0.3388, 0.3985, 0.1377, 0.7580, 0.6391, 0.8913, 0.5509,\n",
       "          0.4062, 0.5037]],\n",
       "\n",
       "        [[0.9888, 0.7746, 0.3292, 0.4007, 0.0535, 0.5512, 0.4711, 0.5627,\n",
       "          0.7769, 0.9872],\n",
       "         [0.9351, 0.0889, 0.8964, 0.0641, 0.2497, 0.4872, 0.4931, 0.8133,\n",
       "          0.3413, 0.6871],\n",
       "         [0.8143, 0.7781, 0.8251, 0.6042, 0.9186, 0.9335, 0.6553, 0.3304,\n",
       "          0.3726, 0.2098],\n",
       "         [0.7897, 0.9411, 0.2078, 0.2962, 0.3221, 0.8624, 0.4179, 0.7937,\n",
       "          0.4764, 0.2362]]])"
      ]
     },
     "execution_count": 12,
     "metadata": {},
     "output_type": "execute_result"
    }
   ],
   "source": [
    "# first dimension\n",
    "sents_emb_keys[0]   # 0-th sentence, all words, all heads, all hidden"
   ]
  },
  {
   "cell_type": "code",
   "execution_count": 13,
   "id": "b37f491c",
   "metadata": {},
   "outputs": [
    {
     "data": {
      "text/plain": [
       "torch.Size([5, 4, 10])"
      ]
     },
     "execution_count": 13,
     "metadata": {},
     "output_type": "execute_result"
    }
   ],
   "source": [
    "sents_emb_keys[0].size()"
   ]
  },
  {
   "cell_type": "markdown",
   "id": "f11adee2",
   "metadata": {},
   "source": [
    "Q: what does [5, 4, 10] mean?\n",
    "\n",
    "A: for the 0-th sentence, it has [length = 5, number_of_heads = 4, hidden_size = 10]"
   ]
  },
  {
   "cell_type": "markdown",
   "id": "d7fe1dce",
   "metadata": {},
   "source": [
    "In other words, fixing the index of the first dimension of a four-dimensional tensor will result in a three-dimensional tensor."
   ]
  },
  {
   "cell_type": "code",
   "execution_count": 14,
   "id": "deec83cc",
   "metadata": {
    "jupyter": {
     "outputs_hidden": true
    },
    "tags": []
   },
   "outputs": [
    {
     "data": {
      "text/plain": [
       "tensor([[[0.6999, 0.2257, 0.6439, 0.9463, 0.1383, 0.4570, 0.1285, 0.0400,\n",
       "          0.3239, 0.8844],\n",
       "         [0.9355, 0.7758, 0.1064, 0.9801, 0.5908, 0.9711, 0.2980, 0.6997,\n",
       "          0.5886, 0.0251],\n",
       "         [0.1514, 0.3595, 0.0484, 0.6166, 0.8912, 0.8841, 0.5238, 0.2317,\n",
       "          0.5468, 0.5227],\n",
       "         [0.9602, 0.7139, 0.0681, 0.5804, 0.2145, 0.6712, 0.6383, 0.3261,\n",
       "          0.6275, 0.2552]],\n",
       "\n",
       "        [[0.7801, 0.8288, 0.2041, 0.8388, 0.7155, 0.5555, 0.3020, 0.4064,\n",
       "          0.7264, 0.0538],\n",
       "         [0.9875, 0.4593, 0.1984, 0.1080, 0.2001, 0.0832, 0.0680, 0.5071,\n",
       "          0.3675, 0.7010],\n",
       "         [0.9118, 0.8272, 0.3213, 0.5137, 0.9326, 0.3049, 0.7120, 0.4211,\n",
       "          0.8940, 0.2103],\n",
       "         [0.3878, 0.4063, 0.2352, 0.9932, 0.0455, 0.0292, 0.8495, 0.7485,\n",
       "          0.5724, 0.9278]]])"
      ]
     },
     "execution_count": 14,
     "metadata": {},
     "output_type": "execute_result"
    }
   ],
   "source": [
    "sents_emb_keys[:, 1, :, :]  # All sentence, 1-st words, all heads, all hidden"
   ]
  },
  {
   "cell_type": "code",
   "execution_count": 15,
   "id": "32fd938a",
   "metadata": {},
   "outputs": [
    {
     "data": {
      "text/plain": [
       "torch.Size([2, 4, 10])"
      ]
     },
     "execution_count": 15,
     "metadata": {},
     "output_type": "execute_result"
    }
   ],
   "source": [
    "sents_emb_keys[:, 1, :, :].size()"
   ]
  },
  {
   "cell_type": "markdown",
   "id": "0e48fba5",
   "metadata": {},
   "source": [
    "Q: what does [2, 4, 10] mean?\n",
    "\n",
    "A: when fixing the 1-st word, we have [batch_size = 2, number_of_heads = 4, hidden_size = 10]."
   ]
  },
  {
   "cell_type": "markdown",
   "id": "6b2648da",
   "metadata": {},
   "source": [
    "Similarlly we have:"
   ]
  },
  {
   "cell_type": "code",
   "execution_count": 16,
   "id": "50eed136",
   "metadata": {
    "jupyter": {
     "outputs_hidden": true
    },
    "tags": []
   },
   "outputs": [
    {
     "data": {
      "text/plain": [
       "tensor([[[0.7381, 0.8948, 0.0599, 0.5107],\n",
       "         [0.6999, 0.9355, 0.1514, 0.9602],\n",
       "         [0.3362, 0.8267, 0.5742, 0.7995],\n",
       "         [0.7844, 0.6398, 0.9995, 0.8946],\n",
       "         [0.9888, 0.9351, 0.8143, 0.7897]],\n",
       "\n",
       "        [[0.7071, 0.5535, 0.2982, 0.9426],\n",
       "         [0.7801, 0.9875, 0.9118, 0.3878],\n",
       "         [0.0035, 0.1969, 0.9288, 0.7128],\n",
       "         [0.2615, 0.5034, 0.4565, 0.5902],\n",
       "         [0.6065, 0.7931, 0.7649, 0.7232]]])"
      ]
     },
     "execution_count": 16,
     "metadata": {},
     "output_type": "execute_result"
    }
   ],
   "source": [
    "sents_emb_keys[0, :, :, :] # 0-st sentence, all words, all heads, all hidden\n",
    "sents_emb_keys[:, 0, :, :] # all sentence, 0-th word, all heads, all hidden\n",
    "sents_emb_keys[:, :, 0, :] # all sentence, all words, 0-th head, all hidden\n",
    "sents_emb_keys[:, :, :, 0] # all sentence, all words, all heads, 0-th hidden"
   ]
  },
  {
   "cell_type": "code",
   "execution_count": 17,
   "id": "113ab8ea",
   "metadata": {},
   "outputs": [
    {
     "name": "stdout",
     "output_type": "stream",
     "text": [
      "torch.Size([5, 4, 10])\n",
      "torch.Size([2, 4, 10])\n",
      "torch.Size([2, 5, 10])\n",
      "torch.Size([2, 5, 4])\n"
     ]
    }
   ],
   "source": [
    "# Q: interpret what the following shape means: \n",
    "# A: --- YOUR ANSWER HERE ----\n",
    "print(sents_emb_keys[0, :, :, :].size())\n",
    "print(sents_emb_keys[:, 0, :, :].size())\n",
    "print(sents_emb_keys[:, :, 0, :].size())\n",
    "print(sents_emb_keys[:, :, :, 0].size())"
   ]
  },
  {
   "cell_type": "markdown",
   "id": "36b2949e",
   "metadata": {},
   "source": [
    "The index can be further fixed at multiple dimensions, for example:"
   ]
  },
  {
   "cell_type": "code",
   "execution_count": 18,
   "id": "cc6d2020",
   "metadata": {
    "jupyter": {
     "outputs_hidden": true
    },
    "tags": []
   },
   "outputs": [
    {
     "name": "stdout",
     "output_type": "stream",
     "text": [
      "tensor([[0.6999, 0.2257, 0.6439, 0.9463, 0.1383, 0.4570, 0.1285, 0.0400, 0.3239,\n",
      "         0.8844],\n",
      "        [0.9355, 0.7758, 0.1064, 0.9801, 0.5908, 0.9711, 0.2980, 0.6997, 0.5886,\n",
      "         0.0251],\n",
      "        [0.1514, 0.3595, 0.0484, 0.6166, 0.8912, 0.8841, 0.5238, 0.2317, 0.5468,\n",
      "         0.5227],\n",
      "        [0.9602, 0.7139, 0.0681, 0.5804, 0.2145, 0.6712, 0.6383, 0.3261, 0.6275,\n",
      "         0.2552]])\n",
      "tensor([0.1514, 0.3595, 0.0484, 0.6166, 0.8912, 0.8841, 0.5238, 0.2317, 0.5468,\n",
      "        0.5227])\n",
      "tensor([[0.1514, 0.3595, 0.0484, 0.6166, 0.8912, 0.8841, 0.5238, 0.2317, 0.5468,\n",
      "         0.5227],\n",
      "        [0.9118, 0.8272, 0.3213, 0.5137, 0.9326, 0.3049, 0.7120, 0.4211, 0.8940,\n",
      "         0.2103]])\n"
     ]
    }
   ],
   "source": [
    "print(sents_emb_keys[0, 1, :, :]) # 0-th sentence, 1-st word, all heads, all hidden\n",
    "print(sents_emb_keys[0, 1, 2, :]) # 0-th sentence, 1-st word, 2-nd head, all hidden\n",
    "print(sents_emb_keys[:, 1, 2, :]) # all sentences, 1-st word, 2-nd head, all hidden"
   ]
  },
  {
   "cell_type": "markdown",
   "id": "bdea2a06",
   "metadata": {},
   "source": [
    "Looking at the shape of the resulting tensors:"
   ]
  },
  {
   "cell_type": "code",
   "execution_count": 19,
   "id": "b4bb5486",
   "metadata": {},
   "outputs": [
    {
     "data": {
      "text/plain": [
       "torch.Size([2, 10])"
      ]
     },
     "execution_count": 19,
     "metadata": {},
     "output_type": "execute_result"
    }
   ],
   "source": [
    "sents_emb_keys[:, 1, 2, :].size()"
   ]
  },
  {
   "cell_type": "markdown",
   "id": "f21a2d70",
   "metadata": {},
   "source": [
    "[2, 10] means [batch_size = 2, hidden_size = 10] when fixing the 1-st word and the 2-nd head."
   ]
  },
  {
   "cell_type": "code",
   "execution_count": 20,
   "id": "08af25c1",
   "metadata": {},
   "outputs": [
    {
     "name": "stdout",
     "output_type": "stream",
     "text": [
      "torch.Size([4, 10])\n",
      "torch.Size([10])\n"
     ]
    }
   ],
   "source": [
    "# Q: interpret what the following shape means: \n",
    "# A: ---- YOUR ANSWER HERE ---\n",
    "print(sents_emb_keys[0, 1, :, :].size())\n",
    "print(sents_emb_keys[0, 1, 2, :].size())"
   ]
  },
  {
   "cell_type": "markdown",
   "id": "6cc793d0",
   "metadata": {},
   "source": [
    "### Slicing"
   ]
  },
  {
   "cell_type": "markdown",
   "id": "e009ca33",
   "metadata": {},
   "source": [
    "Slicing takes a range of an index within any dimension:"
   ]
  },
  {
   "cell_type": "code",
   "execution_count": 21,
   "id": "26fe6c3c",
   "metadata": {
    "jupyter": {
     "outputs_hidden": true
    },
    "tags": []
   },
   "outputs": [
    {
     "data": {
      "text/plain": [
       "tensor([[[[0.1543, 0.6069, 0.4136, 0.7161, 0.8884, 0.0661, 0.1811, 0.1927],\n",
       "          [0.9163, 0.5317, 0.7555, 0.9061, 0.0091, 0.5229, 0.6696, 0.7057],\n",
       "          [0.8027, 0.7089, 0.6296, 0.5882, 0.0374, 0.7048, 0.9837, 0.5155],\n",
       "          [0.9159, 0.8990, 0.0545, 0.3603, 0.7753, 0.5407, 0.4403, 0.8934]],\n",
       "\n",
       "         [[0.2257, 0.6439, 0.9463, 0.1383, 0.4570, 0.1285, 0.0400, 0.3239],\n",
       "          [0.7758, 0.1064, 0.9801, 0.5908, 0.9711, 0.2980, 0.6997, 0.5886],\n",
       "          [0.3595, 0.0484, 0.6166, 0.8912, 0.8841, 0.5238, 0.2317, 0.5468],\n",
       "          [0.7139, 0.0681, 0.5804, 0.2145, 0.6712, 0.6383, 0.3261, 0.6275]],\n",
       "\n",
       "         [[0.3430, 0.9842, 0.8791, 0.8355, 0.3035, 0.6726, 0.7072, 0.6952],\n",
       "          [0.4733, 0.2588, 0.2936, 0.6886, 0.3186, 0.3520, 0.0206, 0.2313],\n",
       "          [0.4536, 0.3682, 0.3018, 0.2567, 0.6178, 0.4781, 0.6415, 0.4560],\n",
       "          [0.9670, 0.3820, 0.9566, 0.9264, 0.7942, 0.2774, 0.8331, 0.3129]],\n",
       "\n",
       "         [[0.3833, 0.7440, 0.3996, 0.5801, 0.0230, 0.9881, 0.3074, 0.1997],\n",
       "          [0.1023, 0.4721, 0.8809, 0.6355, 0.3216, 0.6054, 0.4593, 0.6713],\n",
       "          [0.9725, 0.6199, 0.8235, 0.5397, 0.8774, 0.5437, 0.5569, 0.8486],\n",
       "          [0.3388, 0.3985, 0.1377, 0.7580, 0.6391, 0.8913, 0.5509, 0.4062]],\n",
       "\n",
       "         [[0.7746, 0.3292, 0.4007, 0.0535, 0.5512, 0.4711, 0.5627, 0.7769],\n",
       "          [0.0889, 0.8964, 0.0641, 0.2497, 0.4872, 0.4931, 0.8133, 0.3413],\n",
       "          [0.7781, 0.8251, 0.6042, 0.9186, 0.9335, 0.6553, 0.3304, 0.3726],\n",
       "          [0.9411, 0.2078, 0.2962, 0.3221, 0.8624, 0.4179, 0.7937, 0.4764]]],\n",
       "\n",
       "\n",
       "        [[[0.4615, 0.3670, 0.2568, 0.9303, 0.3972, 0.1473, 0.4430, 0.0674],\n",
       "          [0.0699, 0.0696, 0.1358, 0.7560, 0.5190, 0.4759, 0.3790, 0.3455],\n",
       "          [0.3996, 0.1140, 0.0668, 0.1639, 0.7191, 0.1175, 0.4401, 0.2420],\n",
       "          [0.2278, 0.1837, 0.1058, 0.4248, 0.4477, 0.0792, 0.2522, 0.8572]],\n",
       "\n",
       "         [[0.8288, 0.2041, 0.8388, 0.7155, 0.5555, 0.3020, 0.4064, 0.7264],\n",
       "          [0.4593, 0.1984, 0.1080, 0.2001, 0.0832, 0.0680, 0.5071, 0.3675],\n",
       "          [0.8272, 0.3213, 0.5137, 0.9326, 0.3049, 0.7120, 0.4211, 0.8940],\n",
       "          [0.4063, 0.2352, 0.9932, 0.0455, 0.0292, 0.8495, 0.7485, 0.5724]],\n",
       "\n",
       "         [[0.4023, 0.2869, 0.9106, 0.9970, 0.1379, 0.6658, 0.8812, 0.6966],\n",
       "          [0.0724, 0.9891, 0.6070, 0.0076, 0.9810, 0.6757, 0.2609, 0.6349],\n",
       "          [0.5962, 0.2607, 0.6752, 0.9155, 0.0515, 0.4631, 0.1098, 0.8311],\n",
       "          [0.9503, 0.6223, 0.8227, 0.0615, 0.8982, 0.1581, 0.5971, 0.9376]],\n",
       "\n",
       "         [[0.1989, 0.1905, 0.7730, 0.5907, 0.9124, 0.8946, 0.2621, 0.2866],\n",
       "          [0.5448, 0.1573, 0.4755, 0.9236, 0.0689, 0.0091, 0.6692, 0.8869],\n",
       "          [0.0243, 0.6512, 0.0557, 0.2379, 0.5557, 0.6268, 0.3147, 0.2046],\n",
       "          [0.7512, 0.5181, 0.3067, 0.5351, 0.1453, 0.3278, 0.3753, 0.6069]],\n",
       "\n",
       "         [[0.3097, 0.9619, 0.2961, 0.7507, 0.8894, 0.9072, 0.2408, 0.3768],\n",
       "          [0.6251, 0.0947, 0.2639, 0.0022, 0.9650, 0.7004, 0.9317, 0.9802],\n",
       "          [0.9415, 0.9878, 0.8308, 0.4467, 0.3863, 0.2753, 0.4293, 0.0721],\n",
       "          [0.3122, 0.9993, 0.0038, 0.7668, 0.8347, 0.7057, 0.0430, 0.1942]]]])"
      ]
     },
     "execution_count": 21,
     "metadata": {},
     "output_type": "execute_result"
    }
   ],
   "source": [
    "sents_emb_keys[:, 1:4, :, :] # all sentences, 1-3 words (right boundary 4 is not inclusive), all heads, all hidden\n",
    "sents_emb_keys[:, :4, :, :]  # all sentences, 0-3 words (when left boundary is unspecified, the default is 0), all heads, all hidden\n",
    "sents_emb_keys[:, 1:, :, :]  # all sentences, 1-last words (when right boundary is unspecified, the default is the last token), all heads, all hidden\n",
    "sents_emb_keys[:, :, 2:4:, :] # all sentences, all words, 2-3 heads, all hidden\n",
    "sents_emb_keys[:, :, :, 1:9] # all sentences, all words, all heads, 1-8 hidden"
   ]
  },
  {
   "cell_type": "markdown",
   "id": "45f8ba2f",
   "metadata": {},
   "source": [
    "You can also set a stepsize for slicing:"
   ]
  },
  {
   "cell_type": "code",
   "execution_count": 22,
   "id": "3e116c6d",
   "metadata": {
    "jupyter": {
     "outputs_hidden": true
    },
    "tags": []
   },
   "outputs": [
    {
     "data": {
      "text/plain": [
       "tensor([[[[0.7381, 0.1543, 0.6069, 0.4136, 0.7161, 0.8884, 0.0661, 0.1811,\n",
       "           0.1927, 0.2207],\n",
       "          [0.8948, 0.9163, 0.5317, 0.7555, 0.9061, 0.0091, 0.5229, 0.6696,\n",
       "           0.7057, 0.6332],\n",
       "          [0.0599, 0.8027, 0.7089, 0.6296, 0.5882, 0.0374, 0.7048, 0.9837,\n",
       "           0.5155, 0.5479],\n",
       "          [0.5107, 0.9159, 0.8990, 0.0545, 0.3603, 0.7753, 0.5407, 0.4403,\n",
       "           0.8934, 0.4369]],\n",
       "\n",
       "         [[0.3362, 0.3430, 0.9842, 0.8791, 0.8355, 0.3035, 0.6726, 0.7072,\n",
       "           0.6952, 0.0333],\n",
       "          [0.8267, 0.4733, 0.2588, 0.2936, 0.6886, 0.3186, 0.3520, 0.0206,\n",
       "           0.2313, 0.8176],\n",
       "          [0.5742, 0.4536, 0.3682, 0.3018, 0.2567, 0.6178, 0.4781, 0.6415,\n",
       "           0.4560, 0.4921],\n",
       "          [0.7995, 0.9670, 0.3820, 0.9566, 0.9264, 0.7942, 0.2774, 0.8331,\n",
       "           0.3129, 0.4751]],\n",
       "\n",
       "         [[0.9888, 0.7746, 0.3292, 0.4007, 0.0535, 0.5512, 0.4711, 0.5627,\n",
       "           0.7769, 0.9872],\n",
       "          [0.9351, 0.0889, 0.8964, 0.0641, 0.2497, 0.4872, 0.4931, 0.8133,\n",
       "           0.3413, 0.6871],\n",
       "          [0.8143, 0.7781, 0.8251, 0.6042, 0.9186, 0.9335, 0.6553, 0.3304,\n",
       "           0.3726, 0.2098],\n",
       "          [0.7897, 0.9411, 0.2078, 0.2962, 0.3221, 0.8624, 0.4179, 0.7937,\n",
       "           0.4764, 0.2362]]],\n",
       "\n",
       "\n",
       "        [[[0.7071, 0.4615, 0.3670, 0.2568, 0.9303, 0.3972, 0.1473, 0.4430,\n",
       "           0.0674, 0.9078],\n",
       "          [0.5535, 0.0699, 0.0696, 0.1358, 0.7560, 0.5190, 0.4759, 0.3790,\n",
       "           0.3455, 0.4130],\n",
       "          [0.2982, 0.3996, 0.1140, 0.0668, 0.1639, 0.7191, 0.1175, 0.4401,\n",
       "           0.2420, 0.7828],\n",
       "          [0.9426, 0.2278, 0.1837, 0.1058, 0.4248, 0.4477, 0.0792, 0.2522,\n",
       "           0.8572, 0.3668]],\n",
       "\n",
       "         [[0.0035, 0.4023, 0.2869, 0.9106, 0.9970, 0.1379, 0.6658, 0.8812,\n",
       "           0.6966, 0.7684],\n",
       "          [0.1969, 0.0724, 0.9891, 0.6070, 0.0076, 0.9810, 0.6757, 0.2609,\n",
       "           0.6349, 0.7268],\n",
       "          [0.9288, 0.5962, 0.2607, 0.6752, 0.9155, 0.0515, 0.4631, 0.1098,\n",
       "           0.8311, 0.9864],\n",
       "          [0.7128, 0.9503, 0.6223, 0.8227, 0.0615, 0.8982, 0.1581, 0.5971,\n",
       "           0.9376, 0.4926]],\n",
       "\n",
       "         [[0.6065, 0.3097, 0.9619, 0.2961, 0.7507, 0.8894, 0.9072, 0.2408,\n",
       "           0.3768, 0.6745],\n",
       "          [0.7931, 0.6251, 0.0947, 0.2639, 0.0022, 0.9650, 0.7004, 0.9317,\n",
       "           0.9802, 0.0984],\n",
       "          [0.7649, 0.9415, 0.9878, 0.8308, 0.4467, 0.3863, 0.2753, 0.4293,\n",
       "           0.0721, 0.4854],\n",
       "          [0.7232, 0.3122, 0.9993, 0.0038, 0.7668, 0.8347, 0.7057, 0.0430,\n",
       "           0.1942, 0.9069]]]])"
      ]
     },
     "execution_count": 22,
     "metadata": {},
     "output_type": "execute_result"
    }
   ],
   "source": [
    "sents_emb_keys[:, 0::2, :, :] # all sentence, 0, 2, 4 words"
   ]
  },
  {
   "cell_type": "code",
   "execution_count": 23,
   "id": "439f93ed",
   "metadata": {
    "jupyter": {
     "outputs_hidden": true
    },
    "tags": []
   },
   "outputs": [
    {
     "data": {
      "text/plain": [
       "tensor([[[[0.6999, 0.2257, 0.6439, 0.9463, 0.1383, 0.4570, 0.1285, 0.0400,\n",
       "           0.3239, 0.8844],\n",
       "          [0.9355, 0.7758, 0.1064, 0.9801, 0.5908, 0.9711, 0.2980, 0.6997,\n",
       "           0.5886, 0.0251],\n",
       "          [0.1514, 0.3595, 0.0484, 0.6166, 0.8912, 0.8841, 0.5238, 0.2317,\n",
       "           0.5468, 0.5227],\n",
       "          [0.9602, 0.7139, 0.0681, 0.5804, 0.2145, 0.6712, 0.6383, 0.3261,\n",
       "           0.6275, 0.2552]],\n",
       "\n",
       "         [[0.7844, 0.3833, 0.7440, 0.3996, 0.5801, 0.0230, 0.9881, 0.3074,\n",
       "           0.1997, 0.7648],\n",
       "          [0.6398, 0.1023, 0.4721, 0.8809, 0.6355, 0.3216, 0.6054, 0.4593,\n",
       "           0.6713, 0.1862],\n",
       "          [0.9995, 0.9725, 0.6199, 0.8235, 0.5397, 0.8774, 0.5437, 0.5569,\n",
       "           0.8486, 0.3910],\n",
       "          [0.8946, 0.3388, 0.3985, 0.1377, 0.7580, 0.6391, 0.8913, 0.5509,\n",
       "           0.4062, 0.5037]]],\n",
       "\n",
       "\n",
       "        [[[0.7801, 0.8288, 0.2041, 0.8388, 0.7155, 0.5555, 0.3020, 0.4064,\n",
       "           0.7264, 0.0538],\n",
       "          [0.9875, 0.4593, 0.1984, 0.1080, 0.2001, 0.0832, 0.0680, 0.5071,\n",
       "           0.3675, 0.7010],\n",
       "          [0.9118, 0.8272, 0.3213, 0.5137, 0.9326, 0.3049, 0.7120, 0.4211,\n",
       "           0.8940, 0.2103],\n",
       "          [0.3878, 0.4063, 0.2352, 0.9932, 0.0455, 0.0292, 0.8495, 0.7485,\n",
       "           0.5724, 0.9278]],\n",
       "\n",
       "         [[0.2615, 0.1989, 0.1905, 0.7730, 0.5907, 0.9124, 0.8946, 0.2621,\n",
       "           0.2866, 0.1431],\n",
       "          [0.5034, 0.5448, 0.1573, 0.4755, 0.9236, 0.0689, 0.0091, 0.6692,\n",
       "           0.8869, 0.6715],\n",
       "          [0.4565, 0.0243, 0.6512, 0.0557, 0.2379, 0.5557, 0.6268, 0.3147,\n",
       "           0.2046, 0.5963],\n",
       "          [0.5902, 0.7512, 0.5181, 0.3067, 0.5351, 0.1453, 0.3278, 0.3753,\n",
       "           0.6069, 0.9302]]]])"
      ]
     },
     "execution_count": 23,
     "metadata": {},
     "output_type": "execute_result"
    }
   ],
   "source": [
    "sents_emb_keys[:, 1::2, :, :] # # all sentence, 1, 3 words"
   ]
  },
  {
   "cell_type": "code",
   "execution_count": 24,
   "id": "0d9002e4",
   "metadata": {
    "jupyter": {
     "outputs_hidden": true
    },
    "tags": []
   },
   "outputs": [
    {
     "data": {
      "text/plain": [
       "tensor([[[[0.7381, 0.1543, 0.6069, 0.4136, 0.7161, 0.8884, 0.0661, 0.1811,\n",
       "           0.1927, 0.2207],\n",
       "          [0.8948, 0.9163, 0.5317, 0.7555, 0.9061, 0.0091, 0.5229, 0.6696,\n",
       "           0.7057, 0.6332],\n",
       "          [0.0599, 0.8027, 0.7089, 0.6296, 0.5882, 0.0374, 0.7048, 0.9837,\n",
       "           0.5155, 0.5479],\n",
       "          [0.5107, 0.9159, 0.8990, 0.0545, 0.3603, 0.7753, 0.5407, 0.4403,\n",
       "           0.8934, 0.4369]],\n",
       "\n",
       "         [[0.3362, 0.3430, 0.9842, 0.8791, 0.8355, 0.3035, 0.6726, 0.7072,\n",
       "           0.6952, 0.0333],\n",
       "          [0.8267, 0.4733, 0.2588, 0.2936, 0.6886, 0.3186, 0.3520, 0.0206,\n",
       "           0.2313, 0.8176],\n",
       "          [0.5742, 0.4536, 0.3682, 0.3018, 0.2567, 0.6178, 0.4781, 0.6415,\n",
       "           0.4560, 0.4921],\n",
       "          [0.7995, 0.9670, 0.3820, 0.9566, 0.9264, 0.7942, 0.2774, 0.8331,\n",
       "           0.3129, 0.4751]]],\n",
       "\n",
       "\n",
       "        [[[0.7071, 0.4615, 0.3670, 0.2568, 0.9303, 0.3972, 0.1473, 0.4430,\n",
       "           0.0674, 0.9078],\n",
       "          [0.5535, 0.0699, 0.0696, 0.1358, 0.7560, 0.5190, 0.4759, 0.3790,\n",
       "           0.3455, 0.4130],\n",
       "          [0.2982, 0.3996, 0.1140, 0.0668, 0.1639, 0.7191, 0.1175, 0.4401,\n",
       "           0.2420, 0.7828],\n",
       "          [0.9426, 0.2278, 0.1837, 0.1058, 0.4248, 0.4477, 0.0792, 0.2522,\n",
       "           0.8572, 0.3668]],\n",
       "\n",
       "         [[0.0035, 0.4023, 0.2869, 0.9106, 0.9970, 0.1379, 0.6658, 0.8812,\n",
       "           0.6966, 0.7684],\n",
       "          [0.1969, 0.0724, 0.9891, 0.6070, 0.0076, 0.9810, 0.6757, 0.2609,\n",
       "           0.6349, 0.7268],\n",
       "          [0.9288, 0.5962, 0.2607, 0.6752, 0.9155, 0.0515, 0.4631, 0.1098,\n",
       "           0.8311, 0.9864],\n",
       "          [0.7128, 0.9503, 0.6223, 0.8227, 0.0615, 0.8982, 0.1581, 0.5971,\n",
       "           0.9376, 0.4926]]]])"
      ]
     },
     "execution_count": 24,
     "metadata": {},
     "output_type": "execute_result"
    }
   ],
   "source": [
    "sents_emb_keys[:, 0:4:2, :, :] # # all sentence, 0, 2 words"
   ]
  },
  {
   "cell_type": "markdown",
   "id": "cd84086b",
   "metadata": {},
   "source": [
    "As you can see, the slicing syntax is `some_tensor[start_index : end_index : step_size]`."
   ]
  },
  {
   "cell_type": "code",
   "execution_count": 25,
   "id": "ec118d69",
   "metadata": {
    "jupyter": {
     "outputs_hidden": true
    },
    "tags": []
   },
   "outputs": [
    {
     "name": "stdout",
     "output_type": "stream",
     "text": [
      "torch.Size([2, 3, 4, 10])\n",
      "torch.Size([2, 5, 1, 10])\n"
     ]
    }
   ],
   "source": [
    "# Q: interpret what the following shape means:\n",
    "# A: ---- YOUR ANSWER HERE ----\n",
    "print(sents_emb_keys[:, 1:4, :, :].size())\n",
    "print(sents_emb_keys[:, :, 3:, :].size())"
   ]
  },
  {
   "cell_type": "markdown",
   "id": "9c45d25d",
   "metadata": {},
   "source": [
    "### Concatenation"
   ]
  },
  {
   "cell_type": "markdown",
   "id": "d4d8e24f",
   "metadata": {},
   "source": [
    "To concatenate two tensors within a specified dimension:"
   ]
  },
  {
   "cell_type": "code",
   "execution_count": 26,
   "id": "8ab8d817",
   "metadata": {},
   "outputs": [],
   "source": [
    "sent_1 = torch.tensor([[1, 2, 3]]) # size = [1, 3]\n",
    "sent_2 = torch.tensor([[4, 5, 6]]) # size = [1, 3]"
   ]
  },
  {
   "cell_type": "code",
   "execution_count": 27,
   "id": "0067d043",
   "metadata": {},
   "outputs": [
    {
     "name": "stdout",
     "output_type": "stream",
     "text": [
      "tensor([[1, 2, 3],\n",
      "        [4, 5, 6]])\n",
      "torch.Size([2, 3])\n"
     ]
    }
   ],
   "source": [
    "# concatenate two sentences into a batch\n",
    "sents = torch.cat([sent_1, sent_2], dim=0)\n",
    "print(sents)\n",
    "print(sents.size())"
   ]
  },
  {
   "cell_type": "code",
   "execution_count": 28,
   "id": "c722fdcf",
   "metadata": {},
   "outputs": [
    {
     "name": "stdout",
     "output_type": "stream",
     "text": [
      "tensor([[1, 2, 3],\n",
      "        [4, 5, 6]])\n",
      "torch.Size([2, 3])\n"
     ]
    }
   ],
   "source": [
    "# concat the second sentence to the end of the first sentence\n",
    "sents = torch.cat([sent_1, sent_2], dim=0)\n",
    "print(sents)\n",
    "print(sents.size())"
   ]
  },
  {
   "cell_type": "markdown",
   "id": "add99b23",
   "metadata": {},
   "source": [
    "### Reshaping"
   ]
  },
  {
   "cell_type": "markdown",
   "id": "384fc1ef",
   "metadata": {},
   "source": [
    "Usually reshaping has two effects: (a) spliting tensors or (b) concatenating tensors."
   ]
  },
  {
   "cell_type": "code",
   "execution_count": 29,
   "id": "91c803ab",
   "metadata": {},
   "outputs": [
    {
     "name": "stdout",
     "output_type": "stream",
     "text": [
      "tensor([[1, 2, 3],\n",
      "        [4, 5, 6]])\n",
      "torch.Size([2, 3])\n",
      "tensor([1, 2, 3, 4, 5, 6])\n",
      "torch.Size([6])\n"
     ]
    }
   ],
   "source": [
    "# concatenating tensors\n",
    "print(sents)\n",
    "print(sents.size())\n",
    "sents_cat = sents.view(6)\n",
    "print(sents_cat)\n",
    "print(sents_cat.size()) # pay attention how the shape of the tensor changes from [2, 3] -> [6]"
   ]
  },
  {
   "cell_type": "code",
   "execution_count": 30,
   "id": "375eab61",
   "metadata": {},
   "outputs": [
    {
     "name": "stdout",
     "output_type": "stream",
     "text": [
      "tensor([[1, 2, 3],\n",
      "        [4, 5, 6]])\n",
      "torch.Size([2, 3])\n",
      "tensor([[1, 2],\n",
      "        [3, 4],\n",
      "        [5, 6]])\n",
      "torch.Size([3, 2])\n"
     ]
    }
   ],
   "source": [
    "# spliting tensors\n",
    "sents_split_1 = sents_cat.view(2, 3)\n",
    "print(sents_split_1)\n",
    "print(sents_split_1.size())\n",
    "sents_split_2 = sents_cat.view(3, 2)\n",
    "print(sents_split_2)\n",
    "print(sents_split_2.size())"
   ]
  },
  {
   "cell_type": "markdown",
   "id": "dc788ebf",
   "metadata": {},
   "source": [
    "### Transposing"
   ]
  },
  {
   "cell_type": "markdown",
   "id": "ef219217",
   "metadata": {},
   "source": [
    "Transpose the two dimensions of a tensor:"
   ]
  },
  {
   "cell_type": "code",
   "execution_count": 31,
   "id": "056ee11d",
   "metadata": {},
   "outputs": [
    {
     "name": "stdout",
     "output_type": "stream",
     "text": [
      "tensor([[1, 2, 3],\n",
      "        [4, 5, 6]])\n",
      "tensor([[1, 4],\n",
      "        [2, 5],\n",
      "        [3, 6]])\n"
     ]
    }
   ],
   "source": [
    "print(sents) # shape = [batch, length]\n",
    "sents_transposed = sents.transpose(0, 1)\n",
    "print(sents_transposed) # shape = [length, batch]"
   ]
  },
  {
   "cell_type": "markdown",
   "id": "3c691de7",
   "metadata": {},
   "source": [
    "### Caveat: pay close attention to the difference between transposing and reshaping\n",
    "\n",
    "Generally, reshaping does not change the order of the items within the tensor, while tranposing changes the order."
   ]
  },
  {
   "cell_type": "code",
   "execution_count": 32,
   "id": "f85a0d66",
   "metadata": {},
   "outputs": [
    {
     "name": "stdout",
     "output_type": "stream",
     "text": [
      "tensor([1, 2, 3, 4, 5, 6])\n",
      "tensor([[1, 2, 3],\n",
      "        [4, 5, 6]])\n",
      "tensor([[1, 2],\n",
      "        [3, 4],\n",
      "        [5, 6]])\n",
      "tensor([[1, 4],\n",
      "        [2, 5],\n",
      "        [3, 6]])\n",
      "tensor([1, 4, 2, 5, 3, 6])\n"
     ]
    }
   ],
   "source": [
    "# view does not change order\n",
    "print(sents.view(6))\n",
    "print(sents.view(2, 3))\n",
    "print(sents.view(3, 2))\n",
    "\n",
    "# transposing changes the order\n",
    "print(sents.transpose(0, 1))\n",
    "print(sents.transpose(0, 1).reshape(6))"
   ]
  },
  {
   "cell_type": "markdown",
   "id": "b2af63bc",
   "metadata": {},
   "source": [
    "## Basic Tensor Computations"
   ]
  },
  {
   "cell_type": "markdown",
   "id": "379c4f46",
   "metadata": {},
   "source": [
    "### Tensor add scalar"
   ]
  },
  {
   "cell_type": "code",
   "execution_count": 33,
   "id": "b09f4edf",
   "metadata": {},
   "outputs": [
    {
     "name": "stdout",
     "output_type": "stream",
     "text": [
      "tensor([[0.7740, 0.6638, 0.9824, 0.7694, 0.7898],\n",
      "        [0.4934, 0.2439, 0.6094, 0.8491, 0.4725],\n",
      "        [0.4486, 0.6937, 0.2660, 0.7629, 0.1483]])\n",
      "tensor([[1.7740, 1.6638, 1.9824, 1.7694, 1.7898],\n",
      "        [1.4934, 1.2439, 1.6094, 1.8491, 1.4725],\n",
      "        [1.4486, 1.6937, 1.2660, 1.7629, 1.1483]])\n",
      "tensor([[-0.2260, -0.3362, -0.0176, -0.2306, -0.2102],\n",
      "        [-0.5066, -0.7561, -0.3906, -0.1509, -0.5275],\n",
      "        [-0.5514, -0.3063, -0.7340, -0.2371, -0.8517]])\n",
      "tensor([[1.5480, 1.3276, 1.9648, 1.5388, 1.5797],\n",
      "        [0.9867, 0.4878, 1.2188, 1.6981, 0.9451],\n",
      "        [0.8972, 1.3874, 0.5320, 1.5258, 0.2965]])\n",
      "tensor([[0.3870, 0.3319, 0.4912, 0.3847, 0.3949],\n",
      "        [0.2467, 0.1219, 0.3047, 0.4245, 0.2363],\n",
      "        [0.2243, 0.3469, 0.1330, 0.3815, 0.0741]])\n"
     ]
    }
   ],
   "source": [
    "# addition, differences, multiplication, division\n",
    "sent_emb = torch.rand(3, 5)    # [length = 5, hidden = 10] \n",
    "                                # we assume we work with one sentence embedding where there are 3 words and \n",
    "                                # each word is associated with an embedding vector with length 5\n",
    "print(sent_emb)\n",
    "\n",
    "# the following operations are applied to every entry within the tensor\n",
    "print(sent_emb + 1)\n",
    "print(sent_emb - 1)\n",
    "print(sent_emb * 2)\n",
    "print(sent_emb / 2)"
   ]
  },
  {
   "cell_type": "markdown",
   "id": "7932325d",
   "metadata": {},
   "source": [
    "### Vector dot product"
   ]
  },
  {
   "cell_type": "code",
   "execution_count": 34,
   "id": "3f0d8378",
   "metadata": {},
   "outputs": [],
   "source": [
    "# vector dot-product\n",
    "word_1 = torch.rand(5)\n",
    "word_2 = torch.rand(5)\n",
    "\n",
    "prod = (word_1 * word_2).sum() # element-wise multiplication then sum "
   ]
  },
  {
   "cell_type": "markdown",
   "id": "7d7e1654",
   "metadata": {},
   "source": [
    "### Matrix multiplication"
   ]
  },
  {
   "cell_type": "code",
   "execution_count": 35,
   "id": "a1b83979",
   "metadata": {},
   "outputs": [
    {
     "name": "stdout",
     "output_type": "stream",
     "text": [
      "torch.Size([2, 10])\n"
     ]
    }
   ],
   "source": [
    "# matrix mulplication\n",
    "M1 = torch.rand(2, 5)\n",
    "M2 = torch.rand(5, 10)\n",
    "\n",
    "prod = torch.matmul(M1, M2)\n",
    "print(prod.size()) # shape changes: [2, 5] * [5, 10] -> [2, 10]"
   ]
  },
  {
   "cell_type": "markdown",
   "id": "9edb144c",
   "metadata": {},
   "source": [
    "## Alignment and broadcasting"
   ]
  },
  {
   "cell_type": "markdown",
   "id": "05a6afc8",
   "metadata": {},
   "source": [
    "### Rule 1: if the same shape, then element-wise computation"
   ]
  },
  {
   "cell_type": "code",
   "execution_count": 36,
   "id": "3c04dd79",
   "metadata": {},
   "outputs": [],
   "source": [
    "# adding two words, each word is a vector\n",
    "word_1 = torch.rand(5) # hidden_size = 5\n",
    "word_2 = torch.rand(5)\n",
    "result = word_1 + word_2 # result[i] = word_1[i] + word_2[i] "
   ]
  },
  {
   "cell_type": "code",
   "execution_count": 37,
   "id": "f0cd4499",
   "metadata": {},
   "outputs": [],
   "source": [
    "# adding two sentences, each sentence is a sequence of word vectors\n",
    "sent_1 = torch.rand(3, 5) # sent_length = 3, hidden_size = 5\n",
    "sent_2 = torch.rand(3, 5)\n",
    "result = sent_1 + sent_2 # result[i, j] = sent_1[i, j] + sent_2[i, j]"
   ]
  },
  {
   "cell_type": "markdown",
   "id": "a17805b8",
   "metadata": {},
   "source": [
    "### Rule 2: if different shape, first align, then element-wise computation"
   ]
  },
  {
   "cell_type": "code",
   "execution_count": 38,
   "id": "fab67d35",
   "metadata": {},
   "outputs": [
    {
     "name": "stdout",
     "output_type": "stream",
     "text": [
      "tensor([[1, 2, 3],\n",
      "        [2, 3, 4]])\n"
     ]
    }
   ],
   "source": [
    "# Example 1. adding a single word to every word within a sentence\n",
    "word = torch.tensor([1, 2, 3])              # [hidden = 3]\n",
    "sent = torch.tensor([[0, 0, 0], \n",
    "                     [1, 1, 1]]) # [sent_length = 2, hidden = 3]\n",
    "\n",
    "result = word.view(1, 3) + sent # underlying process: \n",
    "                                # step 1, alignment\n",
    "                                # word.size() = [1, 3]\n",
    "                                #                |  |   alignment\n",
    "                                # sent.size() = [2, 3]\n",
    "                                #\n",
    "                                # step 2, repeat where dimension size is 1\n",
    "                                # word_repeat = word.repeat([2, 1]) -- 0th dim repeat twice, first dim repeat 1 time (= no repeat)\n",
    "                                #\n",
    "                                # step 3, align again\n",
    "                                # align again\n",
    "                                # word_repeat.size() = [2, 3]\n",
    "                                #                       |  |   alignmeng, note that the 0th dim of word is repeated\n",
    "                                # sent.size()        = [2, 3]\n",
    "                                #\n",
    "                                # step 4, element-wise addition. \n",
    "                                # result = word_repeat + sent\n",
    "print(result)  # this is basically broadcasing the given word to each word in the given sentence"
   ]
  },
  {
   "cell_type": "code",
   "execution_count": 39,
   "id": "fe554be7",
   "metadata": {},
   "outputs": [
    {
     "name": "stdout",
     "output_type": "stream",
     "text": [
      "tensor([[[ 1,  2,  3],\n",
      "         [ 2,  3,  4],\n",
      "         [ 3,  4,  5]],\n",
      "\n",
      "        [[ 7,  8,  9],\n",
      "         [ 8,  9, 10],\n",
      "         [ 9, 10, 11]]])\n",
      "torch.Size([2, 3, 3])\n"
     ]
    }
   ],
   "source": [
    "# Example 2. adding two words to two sentences, respectively\n",
    "words = torch.tensor([[1, 2, 3], [4, 5, 6]])                      # batch_size = 2, hidden_size = 3\n",
    "sents = torch.tensor([\n",
    "                        [[0, 0, 0], [1, 1, 1], [2, 2, 2]], \n",
    "                        [[3, 3, 3], [4, 4, 4], [5, 5, 5]],        # batch_size = 2, length = 2, hidden_size = 3\n",
    "                    ])\n",
    "\n",
    "# we aim to add words[0] to sents[0] and words[1] to sents[1]\n",
    "result = words.view(2, 1, 3) + sents    # underlying process: \n",
    "                                        # \n",
    "                                        # step 1, alignment\n",
    "                                        # words.size() = [2, 1, 3]   two words, each has hidden dim = 3\n",
    "                                        #                 |  |  |    alignment\n",
    "                                        # sents.size() = [2, 2, 3]   two sentences, each has two words, each word has hidden dim = 3\n",
    "                                        # \n",
    "                                        # step 2, repeat where dimension size is 1 for broadcasting\n",
    "                                        # repeat words along 1st dimension\n",
    "                                        # words_repeat = words.repeat([1, 2, 1]) -- 0th dim repeat 1 time, 1st dim repeat 2 times, 3rd dim repeat 1 time\n",
    "                                        # \n",
    "                                        # step 3, align again\n",
    "                                        # words_repeat.size() = [2, 2, 3]\n",
    "                                        #                        |  |  |   alignment, note that the 1st dim of words is repeated\n",
    "                                        # sents.size()        = [2, 2, 3]\n",
    "                                        #\n",
    "                                        # step 4, element-wise addition\n",
    "                                        # result = words_repeat + sents\n",
    "print(result)\n",
    "print(result.size())"
   ]
  },
  {
   "cell_type": "code",
   "execution_count": 40,
   "id": "81b00fe7",
   "metadata": {},
   "outputs": [
    {
     "name": "stdout",
     "output_type": "stream",
     "text": [
      "tensor([[ 4,  5,  6],\n",
      "        [ 8, 10, 12],\n",
      "        [12, 15, 18]])\n"
     ]
    }
   ],
   "source": [
    "# Example 3, outer product\n",
    "# the outer product of two vectors is a matrix\n",
    "v1 = torch.tensor([1, 2, 3])\n",
    "v2 = torch.tensor([4, 5, 6])\n",
    "\n",
    "outer_prod = v1.view(3, 1) * v2.view(1, 3)  # underlying process: \n",
    "                                            # \n",
    "                                            # step 1, alignment\n",
    "                                            # v1.size() = [3, 1]  \n",
    "                                            #              |  |  alignment\n",
    "                                            # v2.size() = [1, 3] \n",
    "                                            # \n",
    "                                            # step 2, repeat where dimension size is 1\n",
    "                                            # repeat v1 along 1st dimension\n",
    "                                            # v1_repeat = v1.repeat([1, 3]) -- 0th dim repeat 1 time, 1st repeat 3 times\n",
    "                                            # repeat v2 along 0th dimension\n",
    "                                            # v2_repeat = v2.repeat([3, 1]) -- 0th dim repeat 3 times, 1st repeat 1 time\n",
    "                                            #\n",
    "                                            # step 3, align again and element-wise computation\n",
    "                                            # v1_repeat.size() = [3, 3]\n",
    "                                            #                     |  | \n",
    "                                            # v2_repeat.size() = [3, 3]\n",
    "                                            #\n",
    "                                            # step 4, elementwise multiplication\n",
    "                                            # outer_prod = v1_repeat * v2_repeat\n",
    "\n",
    "print(outer_prod)"
   ]
  },
  {
   "cell_type": "code",
   "execution_count": 41,
   "id": "d277aa7d",
   "metadata": {},
   "outputs": [],
   "source": [
    "# Pay attention to the shape of the tensor, again\n",
    "v1 = torch.tensor([1, 2, 3])\n",
    "v2 = torch.tensor([4, 5, 6])\n",
    "\n",
    "# Q: what is the differences between the following two operations: \n",
    "# A: ---- YOUR ANSWER HERE ----\n",
    "result_1 = v1.view(3, 1) * v2.view(1, 3)\n",
    "result_2 = v1.view(1, 3) * v2.view(3, 1)"
   ]
  },
  {
   "cell_type": "markdown",
   "id": "e25d1718",
   "metadata": {},
   "source": [
    "# Section 2. Batchified Tensor Computation"
   ]
  },
  {
   "cell_type": "markdown",
   "id": "0effde09",
   "metadata": {},
   "source": [
    "In this section, we will study how to compute with tensors whose first dimension is the batch size."
   ]
  },
  {
   "cell_type": "markdown",
   "id": "4683760f",
   "metadata": {},
   "source": [
    "## Batch matrix multiplication"
   ]
  },
  {
   "cell_type": "code",
   "execution_count": 42,
   "id": "7ef05451",
   "metadata": {},
   "outputs": [
    {
     "name": "stdout",
     "output_type": "stream",
     "text": [
      "torch.Size([2, 5, 20])\n"
     ]
    }
   ],
   "source": [
    "# linear transform of the word embeddings of two sentences\n",
    "sents = torch.rand(2, 5, 10) # [batch_size = 2, length = 2, hidden_size= 10]\n",
    "weight = torch.rand(10, 20)  # we transform each word from a length-10 vector to a length-20 vector\n",
    "\n",
    "sents_transform = torch.matmul(sents, weight)   # underlying process:\n",
    "                                                # sents.size() = [2,  5, 10]\n",
    "                                                #                 |       |         alignment. \n",
    "                                                # view weight as [1,     10, 20]    repeat where dimension is 1\n",
    "                                                # matrix multiplication happens at the final two dimensions, [2, 5, 10] x [10, 20] -> [2, 5, 20]\n",
    "print(sents_transform.size())"
   ]
  },
  {
   "cell_type": "markdown",
   "id": "b159e1bb",
   "metadata": {},
   "source": [
    "## Retrieving embedding vectors from an embedding matrix"
   ]
  },
  {
   "cell_type": "code",
   "execution_count": 43,
   "id": "8a23ee51",
   "metadata": {},
   "outputs": [
    {
     "name": "stdout",
     "output_type": "stream",
     "text": [
      "torch.Size([2, 5])\n",
      "torch.Size([2, 5, 10])\n",
      "tensor([0.4093, 0.6592, 0.9869, 0.9115, 0.9096, 0.0590, 0.6847, 0.3976, 0.3881,\n",
      "        0.0565])\n",
      "tensor([0.4093, 0.6592, 0.9869, 0.9115, 0.9096, 0.0590, 0.6847, 0.3976, 0.3881,\n",
      "        0.0565])\n",
      "tensor([0.3722, 0.2414, 0.6395, 0.0657, 0.0763, 0.2267, 0.9993, 0.7255, 0.1229,\n",
      "        0.5108])\n",
      "tensor([0.3722, 0.2414, 0.6395, 0.0657, 0.0763, 0.2267, 0.9993, 0.7255, 0.1229,\n",
      "        0.5108])\n"
     ]
    }
   ],
   "source": [
    "# in deep learning practice, usually we start with sequences of word index\n",
    "sent = torch.tensor([[10, 25, 59, 77, 88],  # suppose [10, 25, 59, 77, 88] means = ['Oh', I', 'really', 'like', 'cats']\n",
    "                     [16, 29, 40, 56, 3]]   # suppose [16, 29, 40, 56, 3] means = ['Jack', 'does', 'not', 'have', 'dogs']\n",
    "                    )\n",
    "print(sent.size())\n",
    "\n",
    "# neural networks requires words being represented as embedding vectors, not index. So we store an embedding matrix for every word\n",
    "vocab_size = 100\n",
    "hidden_size = 10\n",
    "embedding_matrix = torch.rand([vocab_size, hidden_size])\n",
    "\n",
    "# converting index to embeddings consists of two steps:\n",
    "# 1. convert index representation to one-hot representation\n",
    "sent_one_hot = F.one_hot(sent, vocab_size).float()\n",
    "# 2. batch matrix multiplication between the one hot representation and the embedding matrix\n",
    "#    NOTE: when multiply a one-hot vector to a matrix, the one-hot vector essentially retrieves the corresponding row vector from the matrix\n",
    "sent_emb = torch.matmul(sent_one_hot, embedding_matrix) # underlying process:\n",
    "                                                        # sent_one_hot.size() =    [2,  5, 100]\n",
    "                                                        #                           |       |         alignment. \n",
    "                                                        # view embedding_matrix as [1,     100, 10]   repeat where dimension is 1\n",
    "                                                        # matrix multiplication happens at the final two dimensions, [2, 5, 100] x [100, 10] -> [2, 5, 10]\n",
    "                                                        # In this case, multiplying an one-hot vector to a matrix means to retrieve the corresponding \n",
    "                                                        # row vector from the matrix\n",
    "\n",
    "print(sent_emb.size())\n",
    "\n",
    "# the following show the embedding vector from word index 10 is retrieved for sent[0, 0]\n",
    "print(sent_emb[0, 0])\n",
    "print(embedding_matrix[10])\n",
    "\n",
    "# similarlly the embedding vector from word index 25 is retrieved for sent[0, 1]\n",
    "print(sent_emb[0, 1])\n",
    "print(embedding_matrix[25])\n",
    "\n",
    "# ---- YOUR TASK ----\n",
    "# verify how one-hot vector can retrieve the corresponding row vector from the matrix"
   ]
  },
  {
   "cell_type": "markdown",
   "id": "e9b4d09a",
   "metadata": {},
   "source": [
    "## Linear transform of the word embeddings"
   ]
  },
  {
   "cell_type": "code",
   "execution_count": 44,
   "id": "14c0b40d",
   "metadata": {},
   "outputs": [
    {
     "name": "stdout",
     "output_type": "stream",
     "text": [
      "torch.Size([2, 5, 4, 20])\n"
     ]
    }
   ],
   "source": [
    "# linear transform of the word embeddings of two sentences where each sentence has 4 attention heads\n",
    "# this computation is performed in multi-head attention in CW2\n",
    "\n",
    "sents = torch.rand(2, 5, 4, 10) # [batch_size = 2, length = 2, number_of_heads = 4, hidden_size= 10]\n",
    "weight = torch.rand(10, 20)  # we transform each word from a length-10 vector to a length-20 vector\n",
    "\n",
    "sents_transform = torch.matmul(sents, weight)   # underlying process:\n",
    "                                                # sents.size() = [2,  5, 4, 10]\n",
    "                                                #                 |   |      |         alignment. \n",
    "                                                # view weight as [1,  1,    10, 20]    repeat where dimension is 1\n",
    "                                                # matrix multiplication happens at the final two dimensions, [2, 5, 4, 10] * [10, 20] -> [2, 5, 4, 20]\n",
    "print(sents_transform.size())"
   ]
  },
  {
   "cell_type": "markdown",
   "id": "f5c61e60",
   "metadata": {},
   "source": [
    "## Similarity: one single vector v.s. a batch of sentence "
   ]
  },
  {
   "cell_type": "code",
   "execution_count": 45,
   "id": "16cc510e",
   "metadata": {},
   "outputs": [
    {
     "name": "stdout",
     "output_type": "stream",
     "text": [
      "torch.Size([2, 5])\n"
     ]
    }
   ],
   "source": [
    "# similarity: one single vector v.s. a batch of sentence representations\n",
    "query = torch.rand(10)\n",
    "sents = torch.rand(2, 5, 10)\n",
    "\n",
    "# suppose we would like to compute the dot-product (as a measure of similarity) between the query vector and all words within all sentences\n",
    "similarity = (query.view(1, 1, 10) * sents).sum(dim=2)\n",
    "print(similarity.size())  # similarity[i, j] means the vector dot-product between the query vector and the word j at sentence i"
   ]
  },
  {
   "cell_type": "markdown",
   "id": "e7c7a301",
   "metadata": {},
   "source": [
    "## Similarity: a batch of vectors v.s. a batch of sentence  "
   ]
  },
  {
   "cell_type": "code",
   "execution_count": 46,
   "id": "86f31115",
   "metadata": {},
   "outputs": [
    {
     "name": "stdout",
     "output_type": "stream",
     "text": [
      "torch.Size([2, 5])\n"
     ]
    }
   ],
   "source": [
    "# similarity: a batch of vectors v.s. a batch of sentence representations \n",
    "query = torch.rand(2, 10) # pay attention to the differences to the previous case\n",
    "sents = torch.rand(2, 5, 10)\n",
    "\n",
    "similarity = (query.view(2, 1, 10) * sents).sum(dim=2)\n",
    "print(similarity.size())  # similarity[i, j] means the vector dot-product between the query[i] and the word j at sentence i"
   ]
  },
  {
   "cell_type": "markdown",
   "id": "96d7fd5d",
   "metadata": {},
   "source": [
    "## Similarity: a sentence v.s. a batch of sentence"
   ]
  },
  {
   "cell_type": "code",
   "execution_count": 47,
   "id": "f5b6b2c9",
   "metadata": {},
   "outputs": [
    {
     "name": "stdout",
     "output_type": "stream",
     "text": [
      "torch.Size([2, 4, 5])\n",
      "torch.Size([2, 5, 4])\n"
     ]
    }
   ],
   "source": [
    "# similarity: a sentence v.s. a batch of sentence representations\n",
    "sent_0 = torch.rand(4, 10)\n",
    "sents = torch.rand(2, 5, 10)\n",
    "\n",
    "# Q: what is the underlying process? hint: recall the previous align-and-broadcast\n",
    "# A: ---- YOUR ANSWER HERE ----\n",
    "similarity = (sent_0.view(1, 4, 1, 10) * sents.view(2, 1, 5, 10)).sum(dim=3) \n",
    "print(similarity.size()) # similarity[i, j, k] means the vector dot-product between sent_0[j] (j-th word) and sents[i, k] (i-th sent, k-th word)\n",
    "\n",
    "similarity = (sent_0.view(1, 1, 4, 10) * sents.view(2, 5, 1, 10)).sum(dim=3)\n",
    "print(similarity.size()) # similarity[i, j, k] means the vector dot-product between sent_0[k] (k-th word) and sents[i, j] (i-th sent, j-th word)\n",
    "\n",
    "# NOTE: pay attention two the differences of the shapes"
   ]
  },
  {
   "cell_type": "markdown",
   "id": "fc3ae2cc",
   "metadata": {},
   "source": [
    "## Similarity: two batches of sentences"
   ]
  },
  {
   "cell_type": "code",
   "execution_count": 48,
   "id": "880adaac",
   "metadata": {},
   "outputs": [
    {
     "name": "stdout",
     "output_type": "stream",
     "text": [
      "torch.Size([2, 5, 6])\n",
      "torch.Size([2, 6, 5])\n"
     ]
    }
   ],
   "source": [
    "# similarity: two batches of sentences representations\n",
    "# this is usually happens in machine translation where we have a batch of sentences of source language, and another batch of sentences of target language\n",
    "source_sents = torch.rand(2, 5, 10) # [batch_size = 2, source_sent_length = 5, hidden_size = 10]\n",
    "target_sents = torch.rand(2, 6, 10) # [batch_size = 2, target_sent_length = 6, hidden_size = 10]\n",
    "\n",
    "# Q: what is the underlying process? hint: recall the previous align-and-broadcast\n",
    "# A: ---- YOUR ANSWER HERE ----\n",
    "similarity = (source_sents.view(2, 5, 1, 10) * target_sents.view(2, 1, 6, 10)).sum(dim = 3)\n",
    "print(similarity.size()) # similarity[i, j, k] means source_sents[i, j] v.s. target_sents[i, k]\n",
    "\n",
    "similarity = (source_sents.view(2, 1, 5, 10) * target_sents.view(2, 6, 1, 10)).sum(dim = 3)\n",
    "print(similarity.size()) # similarity[i, j, k] means source_sents[i, k] v.s. target_sents[i, j]\n",
    "# NOTE: pay attention two the differences of the shapes"
   ]
  },
  {
   "cell_type": "markdown",
   "id": "970cf985",
   "metadata": {},
   "source": [
    "# Section 3. Masked Batch Computation"
   ]
  },
  {
   "cell_type": "markdown",
   "id": "b24b229d",
   "metadata": {},
   "source": [
    "When putting sentences of difference length into a batch, common practice is to pad them into the same pre-specified maximum length with a special PAD token, then mask out computation involving the PAD token."
   ]
  },
  {
   "cell_type": "markdown",
   "id": "a4f57417",
   "metadata": {},
   "source": [
    "## Basic Masking"
   ]
  },
  {
   "cell_type": "code",
   "execution_count": 49,
   "id": "4ece8484",
   "metadata": {},
   "outputs": [],
   "source": [
    "# a batch of sentences with different length\n",
    "PAD = 0\n",
    "sents = torch.tensor([[1, 2, 3, 0, 0], # length = 3, 2 PAD tokens,\n",
    "                      [3, 4, 0, 0, 0], # length = 2, 3 PAD tokens\n",
    "                      [5, 6, 7, 8, 9]] # length = 5, no PAD token\n",
    "                    )"
   ]
  },
  {
   "cell_type": "code",
   "execution_count": 50,
   "id": "340e147f",
   "metadata": {},
   "outputs": [
    {
     "name": "stdout",
     "output_type": "stream",
     "text": [
      "tensor([[1., 1., 1., 0., 0.],\n",
      "        [1., 1., 0., 0., 0.],\n",
      "        [1., 1., 1., 1., 1.]])\n"
     ]
    }
   ],
   "source": [
    "# create a batch of mask vectors\n",
    "mask = (sents != PAD).float()\n",
    "print(mask)"
   ]
  },
  {
   "cell_type": "markdown",
   "id": "2222515a",
   "metadata": {},
   "source": [
    "## Masked Batchified Computation"
   ]
  },
  {
   "cell_type": "markdown",
   "id": "268304f6",
   "metadata": {},
   "source": [
    "Now we repeat the computation of the previous section. But this time, we mask out the computation involving the PAD tokens."
   ]
  },
  {
   "cell_type": "markdown",
   "id": "a3a462b0",
   "metadata": {},
   "source": [
    "## Similarity: one single vector vs. a batch of sentence + mask"
   ]
  },
  {
   "cell_type": "code",
   "execution_count": 51,
   "id": "b16a6ee1",
   "metadata": {},
   "outputs": [
    {
     "name": "stdout",
     "output_type": "stream",
     "text": [
      "tensor([[2.4386, 2.3735, 2.5634, 0.0000, 0.0000],\n",
      "        [2.1971, 2.1193, 0.0000, 0.0000, 0.0000],\n",
      "        [2.1219, 1.9663, 2.0173, 2.1244, 2.0675]])\n",
      "torch.Size([3, 5])\n"
     ]
    }
   ],
   "source": [
    "# one single vector v.s. a batch of sentence representations + a batch of mask\n",
    "query = torch.rand(10)\n",
    "sents = torch.rand(3, 5, 10)\n",
    "\n",
    "# suppose we would like to compute the dot-product (as a measure of similarity) between the query vector and all words within all sentences\n",
    "similarity = (query.view(1, 1, 10) * sents * mask.view(3, 5, 1)).sum(dim=2) # query.size = [1, 1, 10]\n",
    "                                                                            # sents.size = [3, 5, 10]\n",
    "                                                                            # mask.size  = [3, 5, 1]\n",
    "                                                                            # recall the align-then-broadcast introduced in the previous section\n",
    "print(similarity)\n",
    "print(similarity.size())  # similarity[i, j] means the vector dot-product between the query vector and the word j at sentence i\n",
    "                          # similarity scores for PAD tokens are masked to be 0"
   ]
  },
  {
   "cell_type": "markdown",
   "id": "5c5ea83e",
   "metadata": {},
   "source": [
    "## Similarity: a sentence vs. a batch of sentence + mask"
   ]
  },
  {
   "cell_type": "code",
   "execution_count": 52,
   "id": "e3a94650",
   "metadata": {},
   "outputs": [
    {
     "name": "stdout",
     "output_type": "stream",
     "text": [
      "tensor([[[2.3704, 2.3730, 2.7710, 0.0000, 0.0000],\n",
      "         [2.1014, 2.5274, 2.1251, 0.0000, 0.0000],\n",
      "         [1.7304, 2.2811, 2.0582, 0.0000, 0.0000],\n",
      "         [0.0000, 0.0000, 0.0000, 0.0000, 0.0000]],\n",
      "\n",
      "        [[4.3135, 3.4149, 0.0000, 0.0000, 0.0000],\n",
      "         [3.9689, 3.0051, 0.0000, 0.0000, 0.0000],\n",
      "         [2.5112, 2.6538, 0.0000, 0.0000, 0.0000],\n",
      "         [0.0000, 0.0000, 0.0000, 0.0000, 0.0000]],\n",
      "\n",
      "        [[3.4162, 3.4895, 2.9795, 2.2999, 3.3681],\n",
      "         [3.1975, 3.3605, 2.6317, 1.8804, 3.3257],\n",
      "         [2.7647, 2.7293, 1.7944, 2.0281, 2.5565],\n",
      "         [0.0000, 0.0000, 0.0000, 0.0000, 0.0000]]])\n",
      "torch.Size([3, 4, 5])\n"
     ]
    }
   ],
   "source": [
    "# similarity: a sentence v.s. a batch of sentence representations\n",
    "sent_0 = torch.rand(4, 10)\n",
    "sent_0_mask = torch.tensor([1, 1, 1, 0]) # we assume the length of sent_0 is 3\n",
    "\n",
    "sents = torch.rand(3, 5, 10)\n",
    "\n",
    "# Q: what is the underlying process? hint: recall the previous align-and-broadcast\n",
    "# A: ---- YOUR ANSWER HERE ----\n",
    "#\n",
    "# hint: first mask out sent_0\n",
    "#       sent_0.size        = [1, 4, 1, 10]\n",
    "#       sent_0_mask.size   = [1, 4, 1, 1]\n",
    "#       sent_0_masked.size = [1, 4, 1, 10]\n",
    "#\n",
    "#       then mask out sents\n",
    "#       sents.size         = [3, 1, 5, 10]\n",
    "#       mask.size          = [3, 1, 5, 1 ]\n",
    "#       sents_masked.size  = [3, 1, 5, 10]\n",
    "#\n",
    "#       finally computed similarity score for the two masked tensors\n",
    "#       sent_0_masked.size = [1, 4, 1, 10]\n",
    "#       sents_masked.size  = [3, 1, 5, 10]\n",
    "#       similarity.size    = [3, 4, 5]\n",
    "\n",
    "similarity = (sent_0.view(1, 4, 1, 10) * sent_0_mask.view(1, 4, 1, 1) * sents.view(3, 1, 5, 10) * mask.view(3, 1, 5, 1)).sum(dim=3) \n",
    "\n",
    "print(similarity)\n",
    "print(similarity.size()) # similarity[i, j, k] means the vector dot-product between sent_0[j] (j-th word) and sents[i, k] (i-th sent, k-th word)\n",
    "                         # similarity scores for PAD tokens are masked to be 0"
   ]
  },
  {
   "cell_type": "markdown",
   "id": "0f30bbbf",
   "metadata": {},
   "source": [
    "## Similarity: two batches of masked sentences"
   ]
  },
  {
   "cell_type": "code",
   "execution_count": 53,
   "id": "5a8d848b",
   "metadata": {},
   "outputs": [
    {
     "name": "stdout",
     "output_type": "stream",
     "text": [
      "tensor([[[3.9366, 2.8278, 2.2431, 0.0000, 0.0000, 0.0000],\n",
      "         [3.2524, 2.4841, 2.1404, 0.0000, 0.0000, 0.0000],\n",
      "         [3.0136, 2.5326, 1.6738, 0.0000, 0.0000, 0.0000],\n",
      "         [2.8650, 2.0855, 2.2605, 0.0000, 0.0000, 0.0000],\n",
      "         [0.0000, 0.0000, 0.0000, 0.0000, 0.0000, 0.0000]],\n",
      "\n",
      "        [[2.4893, 2.9497, 2.8121, 2.2709, 3.2474, 3.6408],\n",
      "         [2.1631, 2.0666, 1.6209, 1.8893, 1.6808, 2.8438],\n",
      "         [1.5273, 2.1812, 1.6632, 2.0251, 1.5746, 2.9743],\n",
      "         [2.6392, 2.5629, 2.1693, 2.3413, 1.9995, 3.4827],\n",
      "         [1.5420, 1.0035, 1.1882, 1.3498, 1.6223, 1.6428]]])\n",
      "torch.Size([2, 5, 6])\n"
     ]
    }
   ],
   "source": [
    "# similarity: two batches of sentences representations\n",
    "# this is usually happens in machine translation where we have a batch of sentences of source language, and another batch of sentences of target language\n",
    "# here additionaly, we assume each sentence has its own mask \n",
    "source_sents = torch.rand(2, 5, 10) # [batch_size = 2, source_sent_length = 5, hidden_size = 10]\n",
    "source_mask  = torch.tensor([[1, 1, 1, 1, 0], # length = 4\n",
    "                             [1, 1, 1, 1, 1]] # length = 5\n",
    "                           )\n",
    "target_sents = torch.rand(2, 6, 10) # [batch_size = 2, target_sent_length = 6, hidden_size = 10]\n",
    "target_mask  = torch.tensor([[1, 1, 1, 0, 0, 0], # length = 3\n",
    "                             [1, 1, 1, 1, 1, 1]] # length = 6\n",
    "                           )\n",
    "\n",
    "# Q: what is the underlying process? hint: recall the previous align-and-broadcast-and-mask\n",
    "# A: ---- YOUR ANSWER HERE ----\n",
    "similarity = (source_sents.view(2, 5, 1, 10) * source_mask.view(2, 5, 1, 1) * target_sents.view(2, 1, 6, 10) * target_mask.view(2, 1, 6, 1)).sum(dim = 3)\n",
    "print(similarity)\n",
    "print(similarity.size()) # similarity[i, j, k] means source_sents[i, j] v.s. target_sents[i, k]"
   ]
  },
  {
   "cell_type": "markdown",
   "id": "95d28758",
   "metadata": {},
   "source": [
    "# Section 4. Final Application: Negative Log Likelihood"
   ]
  },
  {
   "cell_type": "markdown",
   "id": "e9500820",
   "metadata": {},
   "source": [
    "Finally, we compute the per-word negative log likelihood of a neural language model that puts everything that we have learned together.\n",
    "\n",
    "The per-word NLL for a sentence $x_1, ..., x_T$ is:\n",
    "\n",
    "$$\n",
    "- \\frac{1}{T} \\sum_t \\log p(x_t | x_{1:t-1})\n",
    "$$\n",
    "\n",
    "which is the average of word likelihood over sentence length."
   ]
  },
  {
   "cell_type": "code",
   "execution_count": 54,
   "id": "cdd209c7",
   "metadata": {},
   "outputs": [],
   "source": [
    "# we start with the final layer of a neural language model which output a tensor named logits (logits means the vector before putting into softmax):\n",
    "logits = torch.rand(2, 5, 100)  # [batch_size = 2, max_sent_len = 5, vocab_size = 100]\n",
    "                                # in practice this should be the output of the final layer of a neural language model. Here we just simulate it as random tensor\n",
    "vocab_size = 100 # in practice the vocabulary size is usually >10K, here for demonstration we simplify it to 100\n",
    "\n",
    "# putting the logits into a softmax function gives the probability of each word within the vocabulary\n",
    "probs = F.softmax(logits, dim=2)\n",
    "\n",
    "# negative log likelihood requires the log of probability\n",
    "log_probs = F.log_softmax(logits, dim=2)\n",
    "\n",
    "# a language model aims to maximize the probability of each word in every sentence, but the PAD token should be excluded\n",
    "target_sent = torch.tensor([[10, 25, 59, 77, 0],   # length = 4, suppose [10, 25, 59, 77, 0] means = ['I', 'really', 'like', 'cats', 'PAD']\n",
    "                            [16, 29, 40, 56, 3]]   # length = 5, suppose [16, 29, 40, 56, 3] means = ['Jack', 'does', 'not', 'have', 'dogs']\n",
    "                          )\n",
    "\n",
    "# transform the index representation to the one-hot representation\n",
    "target_one_hot = F.one_hot(target_sent, vocab_size)\n",
    "\n",
    "# create mask for the target sentence\n",
    "mask = (target_sent != 0).float()\n",
    "\n",
    "# the following computation computes the negative log likelihood\n",
    "# ---- YOUR TASK ----\n",
    "# 1. annotate the shape of every tensor in the following computation\n",
    "# 2. explain every computation step\n",
    "negative_log_likelihood = (((-target_one_hot * log_probs).sum(dim=2) * mask).sum(dim=1) / mask.sum(dim=1)).mean()"
   ]
  },
  {
   "cell_type": "markdown",
   "id": "c3de5214",
   "metadata": {},
   "source": [
    "# Further Reading"
   ]
  },
  {
   "cell_type": "markdown",
   "id": "b23505c3",
   "metadata": {},
   "source": [
    "Up to this stage, you have already suffered from endless annotation of shape of tensor. Is there a way that one can write code which is self-explanatory, rather than requires shape annotation at every single line? \n",
    "\n",
    "The answer is yes, and the solution is [einsum](https://rockt.github.io/2018/04/30/einsum) and [einops](https://einops.rocks/). You are encouraged to find them out yourself."
   ]
  }
 ],
 "metadata": {
  "kernelspec": {
   "display_name": "Python 3 (ipykernel)",
   "language": "python",
   "name": "python3"
  },
  "language_info": {
   "codemirror_mode": {
    "name": "ipython",
    "version": 3
   },
   "file_extension": ".py",
   "mimetype": "text/x-python",
   "name": "python",
   "nbconvert_exporter": "python",
   "pygments_lexer": "ipython3",
   "version": "3.9.13"
  }
 },
 "nbformat": 4,
 "nbformat_minor": 5
}
